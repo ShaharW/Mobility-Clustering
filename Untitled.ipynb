{
 "cells": [
  {
   "cell_type": "code",
   "execution_count": 271,
   "metadata": {
    "collapsed": true
   },
   "outputs": [],
   "source": [
    "%matplotlib inline\n",
    "import pandas as pd"
   ]
  },
  {
   "cell_type": "code",
   "execution_count": 272,
   "metadata": {
    "collapsed": false
   },
   "outputs": [],
   "source": [
    "accuracy_df = pd.read_csv(\"C:/Users/sweinsto/Desktop/accuracy_df.csv\")\n",
    "accuracy_df = accuracy_df.drop(\"Unnamed: 0\", axis=1)"
   ]
  },
  {
   "cell_type": "code",
   "execution_count": 273,
   "metadata": {
    "collapsed": false
   },
   "outputs": [
    {
     "data": {
      "text/html": [
       "<div>\n",
       "<table border=\"1\" class=\"dataframe\">\n",
       "  <thead>\n",
       "    <tr style=\"text-align: right;\">\n",
       "      <th></th>\n",
       "      <th>model_stl_accuracy</th>\n",
       "      <th>model_ses_accuracy</th>\n",
       "      <th>model_hw_A_accuracy</th>\n",
       "      <th>model_ets_accuracy</th>\n",
       "      <th>model_arima_accuracy</th>\n",
       "      <th>model_prophet_accuracy</th>\n",
       "    </tr>\n",
       "  </thead>\n",
       "  <tbody>\n",
       "    <tr>\n",
       "      <th>count</th>\n",
       "      <td>2785.000000</td>\n",
       "      <td>2785.000000</td>\n",
       "      <td>2785.000000</td>\n",
       "      <td>2785.000000</td>\n",
       "      <td>2785.000000</td>\n",
       "      <td>2785.000000</td>\n",
       "    </tr>\n",
       "    <tr>\n",
       "      <th>mean</th>\n",
       "      <td>0.016093</td>\n",
       "      <td>0.019359</td>\n",
       "      <td>0.017017</td>\n",
       "      <td>0.018078</td>\n",
       "      <td>0.019015</td>\n",
       "      <td>0.013290</td>\n",
       "    </tr>\n",
       "    <tr>\n",
       "      <th>std</th>\n",
       "      <td>0.008708</td>\n",
       "      <td>0.011629</td>\n",
       "      <td>0.009595</td>\n",
       "      <td>0.011282</td>\n",
       "      <td>0.011526</td>\n",
       "      <td>0.007799</td>\n",
       "    </tr>\n",
       "    <tr>\n",
       "      <th>min</th>\n",
       "      <td>0.002384</td>\n",
       "      <td>0.001260</td>\n",
       "      <td>0.002644</td>\n",
       "      <td>0.001174</td>\n",
       "      <td>0.001285</td>\n",
       "      <td>0.001302</td>\n",
       "    </tr>\n",
       "    <tr>\n",
       "      <th>25%</th>\n",
       "      <td>0.010318</td>\n",
       "      <td>0.011689</td>\n",
       "      <td>0.010586</td>\n",
       "      <td>0.010666</td>\n",
       "      <td>0.011369</td>\n",
       "      <td>0.007931</td>\n",
       "    </tr>\n",
       "    <tr>\n",
       "      <th>50%</th>\n",
       "      <td>0.014281</td>\n",
       "      <td>0.016482</td>\n",
       "      <td>0.014859</td>\n",
       "      <td>0.015062</td>\n",
       "      <td>0.016263</td>\n",
       "      <td>0.011800</td>\n",
       "    </tr>\n",
       "    <tr>\n",
       "      <th>75%</th>\n",
       "      <td>0.019691</td>\n",
       "      <td>0.023164</td>\n",
       "      <td>0.020822</td>\n",
       "      <td>0.022066</td>\n",
       "      <td>0.022938</td>\n",
       "      <td>0.016906</td>\n",
       "    </tr>\n",
       "    <tr>\n",
       "      <th>max</th>\n",
       "      <td>0.085840</td>\n",
       "      <td>0.095926</td>\n",
       "      <td>0.116810</td>\n",
       "      <td>0.084743</td>\n",
       "      <td>0.094541</td>\n",
       "      <td>0.064039</td>\n",
       "    </tr>\n",
       "  </tbody>\n",
       "</table>\n",
       "</div>"
      ],
      "text/plain": [
       "       model_stl_accuracy  model_ses_accuracy  model_hw_A_accuracy  \\\n",
       "count         2785.000000         2785.000000          2785.000000   \n",
       "mean             0.016093            0.019359             0.017017   \n",
       "std              0.008708            0.011629             0.009595   \n",
       "min              0.002384            0.001260             0.002644   \n",
       "25%              0.010318            0.011689             0.010586   \n",
       "50%              0.014281            0.016482             0.014859   \n",
       "75%              0.019691            0.023164             0.020822   \n",
       "max              0.085840            0.095926             0.116810   \n",
       "\n",
       "       model_ets_accuracy  model_arima_accuracy  model_prophet_accuracy  \n",
       "count         2785.000000           2785.000000             2785.000000  \n",
       "mean             0.018078              0.019015                0.013290  \n",
       "std              0.011282              0.011526                0.007799  \n",
       "min              0.001174              0.001285                0.001302  \n",
       "25%              0.010666              0.011369                0.007931  \n",
       "50%              0.015062              0.016263                0.011800  \n",
       "75%              0.022066              0.022938                0.016906  \n",
       "max              0.084743              0.094541                0.064039  "
      ]
     },
     "execution_count": 273,
     "metadata": {},
     "output_type": "execute_result"
    }
   ],
   "source": [
    "accuracy_df.describe()"
   ]
  },
  {
   "cell_type": "code",
   "execution_count": 274,
   "metadata": {
    "collapsed": false
   },
   "outputs": [
    {
     "name": "stdout",
     "output_type": "stream",
     "text": [
      "model_prophet_accuracy    0.613645\n",
      "model_ets_accuracy        0.156553\n",
      "model_stl_accuracy        0.121364\n",
      "model_arima_accuracy      0.056014\n",
      "model_ses_accuracy        0.031239\n",
      "model_hw_A_accuracy       0.021185\n",
      "dtype: float64\n"
     ]
    },
    {
     "data": {
      "text/plain": [
       "<matplotlib.axes._subplots.AxesSubplot at 0x19256fd0>"
      ]
     },
     "execution_count": 274,
     "metadata": {},
     "output_type": "execute_result"
    },
    {
     "data": {
      "image/png": "[encoded data removed]",
      "text/plain": [
       "<matplotlib.figure.Figure at 0x193aa588>"
      ]
     },
     "metadata": {},
     "output_type": "display_data"
    }
   ],
   "source": [
    "best_model = pd.Series()\n",
    "for row in accuracy_df.iterrows():\n",
    "    best_model = best_model.append(pd.Series(row[1].index[list(row[1].values).index(min(row[1]))]))\n",
    "prop = ((best_model.value_counts())/(best_model.value_counts().sum()))\n",
    "print prop\n",
    "prop.plot.bar()"
   ]
  },
  {
   "cell_type": "code",
   "execution_count": 275,
   "metadata": {
    "collapsed": false
   },
   "outputs": [
    {
     "name": "stdout",
     "output_type": "stream",
     "text": [
      "model_prophet_accuracy    0.632316\n",
      "model_ets_accuracy        0.175943\n",
      "model_stl_accuracy        0.127469\n",
      "model_arima_accuracy      0.064273\n",
      "dtype: float64\n"
     ]
    },
    {
     "data": {
      "text/plain": [
       "<matplotlib.axes._subplots.AxesSubplot at 0x1961a668>"
      ]
     },
     "execution_count": 275,
     "metadata": {},
     "output_type": "execute_result"
    },
    {
     "data": {
      "image/png": "[encoded data removed]",
      "text/plain": [
       "<matplotlib.figure.Figure at 0x153d8d68>"
      ]
     },
     "metadata": {},
     "output_type": "display_data"
    }
   ],
   "source": [
    "#remove less then 5% percent success\n",
    "accuracy_df = accuracy_df.drop([\"model_hw_A_accuracy\",\"model_ses_accuracy\"], axis = 1)\n",
    "best_model = pd.Series()\n",
    "for row in accuracy_df.iterrows():\n",
    "    best_model = best_model.append(pd.Series(row[1].index[list(row[1].values).index(min(row[1]))]))\n",
    "prop = ((best_model.value_counts())/(best_model.value_counts().sum()))\n",
    "print prop\n",
    "prop.plot.bar()"
   ]
  },
  {
   "cell_type": "code",
   "execution_count": 278,
   "metadata": {
    "collapsed": false
   },
   "outputs": [
    {
     "data": {
      "text/html": [
       "<div>\n",
       "<table border=\"1\" class=\"dataframe\">\n",
       "  <thead>\n",
       "    <tr style=\"text-align: right;\">\n",
       "      <th></th>\n",
       "      <th>model_stl_accuracy</th>\n",
       "      <th>model_ets_accuracy</th>\n",
       "      <th>model_arima_accuracy</th>\n",
       "      <th>model_prophet_accuracy</th>\n",
       "      <th>noProphet_min</th>\n",
       "    </tr>\n",
       "  </thead>\n",
       "  <tbody>\n",
       "    <tr>\n",
       "      <th>0</th>\n",
       "      <td>0.019380</td>\n",
       "      <td>0.025160</td>\n",
       "      <td>0.025852</td>\n",
       "      <td>0.017440</td>\n",
       "      <td>0.019380</td>\n",
       "    </tr>\n",
       "    <tr>\n",
       "      <th>1</th>\n",
       "      <td>0.009319</td>\n",
       "      <td>0.012844</td>\n",
       "      <td>0.015509</td>\n",
       "      <td>0.003944</td>\n",
       "      <td>0.009319</td>\n",
       "    </tr>\n",
       "    <tr>\n",
       "      <th>2</th>\n",
       "      <td>0.007849</td>\n",
       "      <td>0.008128</td>\n",
       "      <td>0.012495</td>\n",
       "      <td>0.007703</td>\n",
       "      <td>0.007849</td>\n",
       "    </tr>\n",
       "    <tr>\n",
       "      <th>3</th>\n",
       "      <td>0.013665</td>\n",
       "      <td>0.010588</td>\n",
       "      <td>0.011757</td>\n",
       "      <td>0.012327</td>\n",
       "      <td>0.010588</td>\n",
       "    </tr>\n",
       "    <tr>\n",
       "      <th>4</th>\n",
       "      <td>0.020599</td>\n",
       "      <td>0.025475</td>\n",
       "      <td>0.029814</td>\n",
       "      <td>0.013332</td>\n",
       "      <td>0.020599</td>\n",
       "    </tr>\n",
       "  </tbody>\n",
       "</table>\n",
       "</div>"
      ],
      "text/plain": [
       "   model_stl_accuracy  model_ets_accuracy  model_arima_accuracy  \\\n",
       "0            0.019380            0.025160              0.025852   \n",
       "1            0.009319            0.012844              0.015509   \n",
       "2            0.007849            0.008128              0.012495   \n",
       "3            0.013665            0.010588              0.011757   \n",
       "4            0.020599            0.025475              0.029814   \n",
       "\n",
       "   model_prophet_accuracy  noProphet_min  \n",
       "0                0.017440       0.019380  \n",
       "1                0.003944       0.009319  \n",
       "2                0.007703       0.007849  \n",
       "3                0.012327       0.010588  \n",
       "4                0.013332       0.020599  "
      ]
     },
     "execution_count": 278,
     "metadata": {},
     "output_type": "execute_result"
    }
   ],
   "source": [
    "accuracy_df[\"noProphet_min\"] = accuracy_df.apply(func=lambda x: min(x[0:-2]), axis=1)\n",
    "accuracy_df.head()"
   ]
  },
  {
   "cell_type": "code",
   "execution_count": 279,
   "metadata": {
    "collapsed": false
   },
   "outputs": [
    {
     "data": {
      "text/plain": [
       "<matplotlib.axes._subplots.AxesSubplot at 0x198651d0>"
      ]
     },
     "execution_count": 279,
     "metadata": {},
     "output_type": "execute_result"
    },
    {
     "data": {
      "image/png": "[encoded data removed]",
      "text/plain": [
       "<matplotlib.figure.Figure at 0x1939e828>"
      ]
     },
     "metadata": {},
     "output_type": "display_data"
    }
   ],
   "source": [
    "accuracy_df[\"difference\"] = accuracy_df[\"model_prophet_accuracy\"] - accuracy_df[\"noProphet_min\"]\n",
    "accuracy_df[\"difference\"].hist(bins=60)"
   ]
  },
  {
   "cell_type": "code",
   "execution_count": 280,
   "metadata": {
    "collapsed": false
   },
   "outputs": [
    {
     "data": {
      "text/plain": [
       "<matplotlib.axes._subplots.AxesSubplot at 0x19cfde48>"
      ]
     },
     "execution_count": 280,
     "metadata": {},
     "output_type": "execute_result"
    },
    {
     "data": {
      "image/png": "[encoded data removed]",
      "text/plain": [
       "<matplotlib.figure.Figure at 0x19d26390>"
      ]
     },
     "metadata": {},
     "output_type": "display_data"
    }
   ],
   "source": [
    "counts = (accuracy_df[\"difference\"]>0).value_counts()\n",
    "counts.index = ['Prophet wins', \"Other models win\"]\n",
    "counts.plot.pie(autopct='%1.0f%%')"
   ]
  },
  {
   "cell_type": "code",
   "execution_count": 281,
   "metadata": {
    "collapsed": false
   },
   "outputs": [
    {
     "data": {
      "text/plain": [
       "<matplotlib.axes._subplots.AxesSubplot at 0x19a88d30>"
      ]
     },
     "execution_count": 281,
     "metadata": {},
     "output_type": "execute_result"
    },
    {
     "data": {
      "image/png": "[encoded data removed]",
      "text/plain": [
       "<matplotlib.figure.Figure at 0x19db9828>"
      ]
     },
     "metadata": {},
     "output_type": "display_data"
    }
   ],
   "source": [
    "# positive difference = other model were better then prophet\n",
    "accuracy_df[accuracy_df[\"difference\"]>0][\"difference\"].hist(bins=10)"
   ]
  },
  {
   "cell_type": "code",
   "execution_count": 282,
   "metadata": {
    "collapsed": false
   },
   "outputs": [
    {
     "data": {
      "text/plain": [
       "<matplotlib.axes._subplots.AxesSubplot at 0x1a014828>"
      ]
     },
     "execution_count": 282,
     "metadata": {},
     "output_type": "execute_result"
    },
    {
     "data": {
      "image/png": "[encoded data removed]",
      "text/plain": [
       "<matplotlib.figure.Figure at 0x1a044588>"
      ]
     },
     "metadata": {},
     "output_type": "display_data"
    }
   ],
   "source": [
    "# negative difference = prophet was better then the best of other models\n",
    "accuracy_df[accuracy_df[\"difference\"]<0][\"difference\"].hist(bins=10)"
   ]
  },
  {
   "cell_type": "code",
   "execution_count": 289,
   "metadata": {
    "collapsed": false
   },
   "outputs": [
    {
     "data": {
      "text/plain": [
       "<matplotlib.axes._subplots.AxesSubplot at 0x1b260240>"
      ]
     },
     "execution_count": 289,
     "metadata": {},
     "output_type": "execute_result"
    },
    {
     "data": {
      "image/png": "[encoded data removed]",
      "text/plain": [
       "<matplotlib.figure.Figure at 0x1b392588>"
      ]
     },
     "metadata": {},
     "output_type": "display_data"
    }
   ],
   "source": [
    "# stl wins are not convincing enough (too close to Prophet)\n",
    "accuracy_df[accuracy_df[\"model_stl_accuracy\"]==accuracy_df[\"noProphet_min\"]][\"difference\"].hist(color='brown', bins=40)"
   ]
  },
  {
   "cell_type": "code",
   "execution_count": 288,
   "metadata": {
    "collapsed": false
   },
   "outputs": [
    {
     "data": {
      "text/plain": [
       "<matplotlib.axes._subplots.AxesSubplot at 0x1b0707f0>"
      ]
     },
     "execution_count": 288,
     "metadata": {},
     "output_type": "execute_result"
    },
    {
     "data": {
      "image/png": "[encoded data removed]",
      "text/plain": [
       "<matplotlib.figure.Figure at 0x1b0973c8>"
      ]
     },
     "metadata": {},
     "output_type": "display_data"
    }
   ],
   "source": [
    "# ets wins are more convincing\n",
    "accuracy_df[accuracy_df[\"model_ets_accuracy\"]==accuracy_df[\"noProphet_min\"]][\"difference\"].hist(color='purple',bins=40)"
   ]
  },
  {
   "cell_type": "code",
   "execution_count": 287,
   "metadata": {
    "collapsed": false
   },
   "outputs": [
    {
     "data": {
      "text/plain": [
       "<matplotlib.axes._subplots.AxesSubplot at 0x1ac0c4e0>"
      ]
     },
     "execution_count": 287,
     "metadata": {},
     "output_type": "execute_result"
    },
    {
     "data": {
      "image/png": "[encoded data removed]",
      "text/plain": [
       "<matplotlib.figure.Figure at 0x1ac38550>"
      ]
     },
     "metadata": {},
     "output_type": "display_data"
    }
   ],
   "source": [
    "# not sure about arima, maybe remove them since too litle wins (6%)\n",
    "accuracy_df[accuracy_df[\"model_arima_accuracy\"]==accuracy_df[\"noProphet_min\"]][\"difference\"].hist(color='black', bins=40)"
   ]
  }
 ],
 "metadata": {
  "kernelspec": {
   "display_name": "Python 2",
   "language": "python",
   "name": "python2"
  },
  "language_info": {
   "codemirror_mode": {
    "name": "ipython",
    "version": 2
   },
   "file_extension": ".py",
   "mimetype": "text/x-python",
   "name": "python",
   "nbconvert_exporter": "python",
   "pygments_lexer": "ipython2",
   "version": "2.7.13"
  }
 },
 "nbformat": 4,
 "nbformat_minor": 2
}
